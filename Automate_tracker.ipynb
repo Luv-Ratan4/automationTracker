{
 "cells": [
  {
   "cell_type": "markdown",
   "metadata": {},
   "source": [
    "### Importing necessary libraries \n",
    "    - Importing Excel File"
   ]
  },
  {
   "cell_type": "code",
   "execution_count": 1,
   "metadata": {},
   "outputs": [],
   "source": [
    "import pandas as pd\n",
    "import numpy as np\n",
    "import openpyxl as ox\n",
    "\n",
    "variable = 'ADG Acquisition, LLC'\n",
    "\n",
    "inputFile = f'./Assets/{variable}.xlsx'\n",
    "outputFile = './newFile.xlsx'\n",
    "\n",
    "\n",
    "def functionToLoadWorkbook(inputOutputFile) :\n",
    "    workbook = ox.load_workbook(filename=inputOutputFile, data_only=True)\n",
    "    sheet1 = workbook.active\n",
    "    return sheet1\n"
   ]
  },
  {
   "cell_type": "markdown",
   "metadata": {},
   "source": [
    "#### Creating a function to convert the data into a list"
   ]
  },
  {
   "cell_type": "code",
   "execution_count": 2,
   "metadata": {},
   "outputs": [
    {
     "name": "stdout",
     "output_type": "stream",
     "text": [
      "<Worksheet \"Artisan Design Group\">\n",
      "ADG Acquisition, LLC\n"
     ]
    }
   ],
   "source": [
    "inputSheet = functionToLoadWorkbook(inputFile)\n",
    "print(inputSheet)\n",
    "companyName = inputSheet.cell(row=4, column=3).value\n",
    "print(companyName)\n",
    "def functionToReadInputRow(sheet):\n",
    "    data = []\n",
    "    for row in sheet.iter_rows(min_row=6, max_row=6,min_col=5): \n",
    "        for cell in row:\n",
    "            if cell.value != None:\n",
    "                data.append(cell.value)\n",
    "    return list(data)\n",
    "       \n",
    "dfInput = functionToReadInputRow(inputSheet)\n"
   ]
  },
  {
   "cell_type": "markdown",
   "metadata": {},
   "source": [
    "### Function to read the output excel sheet"
   ]
  },
  {
   "cell_type": "code",
   "execution_count": 3,
   "metadata": {},
   "outputs": [],
   "source": [
    "outputsheet = functionToLoadWorkbook(outputFile)\n",
    "\n",
    "def functionToReadOutputRow(outputsheet):\n",
    "    data = []\n",
    "    for row in outputsheet.iter_rows(values_only=True):\n",
    "      data.append(list(row))\n",
    "    df = pd.DataFrame(data[1:], columns=data[0]).reset_index(drop=True)\n",
    "    return df\n",
    "\n",
    "dfOutput = functionToReadOutputRow(outputsheet)\n",
    "\n",
    "\n"
   ]
  },
  {
   "cell_type": "code",
   "execution_count": 4,
   "metadata": {},
   "outputs": [
    {
     "data": {
      "text/plain": [
       "[2019,\n",
       " 2020,\n",
       " 2021,\n",
       " '1Q21',\n",
       " '2Q21',\n",
       " '3Q21',\n",
       " '4Q21',\n",
       " '1Q22',\n",
       " '2Q22',\n",
       " '3Q22',\n",
       " '4Q22',\n",
       " '1Q23',\n",
       " '2Q23',\n",
       " '3Q23',\n",
       " '4Q23',\n",
       " '1Q24']"
      ]
     },
     "execution_count": 4,
     "metadata": {},
     "output_type": "execute_result"
    }
   ],
   "source": [
    "dfInput"
   ]
  },
  {
   "cell_type": "markdown",
   "metadata": {},
   "source": [
    "#### Function to compare the data for tracker"
   ]
  },
  {
   "cell_type": "markdown",
   "metadata": {},
   "source": [
    "### Function to create the Column and list where the tracker will be checked"
   ]
  },
  {
   "cell_type": "code",
   "execution_count": 5,
   "metadata": {},
   "outputs": [],
   "source": [
    "#Creating a list for comparison\n",
    "\n",
    "compList = ['1Q21','2Q21','3Q21','4Q21','1Q22','2Q22','3Q22','4Q22','1Q23','2Q23','3Q23','4Q23','1Q24','2Q24','3Q24','4Q24','1Q25','2Q25','3Q25','4Q25']\n"
   ]
  },
  {
   "cell_type": "markdown",
   "metadata": {},
   "source": [
    "#### To compare values with tracker values"
   ]
  },
  {
   "cell_type": "code",
   "execution_count": 6,
   "metadata": {},
   "outputs": [
    {
     "name": "stdout",
     "output_type": "stream",
     "text": [
      "['ADG Acquisition, LLC', 'Yes', 'Yes', 'Yes', 'Yes', 'Yes', 'Yes', 'Yes', 'Yes', 'Yes', 'Yes', 'Yes', 'Yes', 'Yes', 'No', 'No', 'No', 'No', 'No', 'No', 'No']\n",
      "21\n"
     ]
    }
   ],
   "source": [
    "i = 0\n",
    "finalData = [companyName]\n",
    "boolData = False\n",
    "while i < len(compList):\n",
    "    j = 0\n",
    "    while j < len(dfInput):\n",
    "        if(dfInput[j] == compList[i]):\n",
    "            boolData = True\n",
    "            break\n",
    "        j+=1\n",
    "    if boolData == True:\n",
    "        finalData.append('Yes')\n",
    "    else:\n",
    "        finalData.append('No')\n",
    "    boolData = False\n",
    "    i+=1\n",
    "print(finalData)\n",
    "print(len(finalData))\n"
   ]
  },
  {
   "cell_type": "markdown",
   "metadata": {},
   "source": [
    "#### Code to update the Tracker"
   ]
  },
  {
   "cell_type": "code",
   "execution_count": 7,
   "metadata": {},
   "outputs": [
    {
     "data": {
      "text/html": [
       "<div>\n",
       "<style scoped>\n",
       "    .dataframe tbody tr th:only-of-type {\n",
       "        vertical-align: middle;\n",
       "    }\n",
       "\n",
       "    .dataframe tbody tr th {\n",
       "        vertical-align: top;\n",
       "    }\n",
       "\n",
       "    .dataframe thead th {\n",
       "        text-align: right;\n",
       "    }\n",
       "</style>\n",
       "<table border=\"1\" class=\"dataframe\">\n",
       "  <thead>\n",
       "    <tr style=\"text-align: right;\">\n",
       "      <th></th>\n",
       "      <th>Company Name</th>\n",
       "      <th>1Q21</th>\n",
       "      <th>2Q21</th>\n",
       "      <th>3Q21</th>\n",
       "      <th>4Q21</th>\n",
       "      <th>1Q22</th>\n",
       "      <th>2Q22</th>\n",
       "      <th>3Q22</th>\n",
       "      <th>4Q22</th>\n",
       "      <th>1Q23</th>\n",
       "      <th>...</th>\n",
       "      <th>3Q23</th>\n",
       "      <th>4Q23</th>\n",
       "      <th>1Q24</th>\n",
       "      <th>2Q24</th>\n",
       "      <th>3Q24</th>\n",
       "      <th>4Q24</th>\n",
       "      <th>1Q25</th>\n",
       "      <th>2Q25</th>\n",
       "      <th>3Q25</th>\n",
       "      <th>4Q25</th>\n",
       "    </tr>\n",
       "  </thead>\n",
       "  <tbody>\n",
       "    <tr>\n",
       "      <th>0</th>\n",
       "      <td>ADG Acquisition, LLC</td>\n",
       "      <td>Yes</td>\n",
       "      <td>Yes</td>\n",
       "      <td>Yes</td>\n",
       "      <td>Yes</td>\n",
       "      <td>Yes</td>\n",
       "      <td>Yes</td>\n",
       "      <td>Yes</td>\n",
       "      <td>Yes</td>\n",
       "      <td>Yes</td>\n",
       "      <td>...</td>\n",
       "      <td>Yes</td>\n",
       "      <td>Yes</td>\n",
       "      <td>Yes</td>\n",
       "      <td>No</td>\n",
       "      <td>No</td>\n",
       "      <td>No</td>\n",
       "      <td>No</td>\n",
       "      <td>No</td>\n",
       "      <td>No</td>\n",
       "      <td>No</td>\n",
       "    </tr>\n",
       "  </tbody>\n",
       "</table>\n",
       "<p>1 rows × 21 columns</p>\n",
       "</div>"
      ],
      "text/plain": [
       "           Company Name 1Q21 2Q21 3Q21 4Q21 1Q22 2Q22 3Q22 4Q22 1Q23  ...  \\\n",
       "0  ADG Acquisition, LLC  Yes  Yes  Yes  Yes  Yes  Yes  Yes  Yes  Yes  ...   \n",
       "\n",
       "  3Q23 4Q23 1Q24 2Q24 3Q24 4Q24 1Q25 2Q25 3Q25 4Q25  \n",
       "0  Yes  Yes  Yes   No   No   No   No   No   No   No  \n",
       "\n",
       "[1 rows x 21 columns]"
      ]
     },
     "execution_count": 7,
     "metadata": {},
     "output_type": "execute_result"
    }
   ],
   "source": [
    "df = pd.DataFrame([finalData], columns=[\"Company Name\",'1Q21','2Q21','3Q21','4Q21','1Q22','2Q22','3Q22','4Q22','1Q23','2Q23','3Q23','4Q23','1Q24','2Q24','3Q24','4Q24','1Q25','2Q25','3Q25','4Q25']).reset_index(drop=True)\n",
    "df"
   ]
  },
  {
   "cell_type": "code",
   "execution_count": 8,
   "metadata": {},
   "outputs": [
    {
     "data": {
      "text/html": [
       "<div>\n",
       "<style scoped>\n",
       "    .dataframe tbody tr th:only-of-type {\n",
       "        vertical-align: middle;\n",
       "    }\n",
       "\n",
       "    .dataframe tbody tr th {\n",
       "        vertical-align: top;\n",
       "    }\n",
       "\n",
       "    .dataframe thead th {\n",
       "        text-align: right;\n",
       "    }\n",
       "</style>\n",
       "<table border=\"1\" class=\"dataframe\">\n",
       "  <thead>\n",
       "    <tr style=\"text-align: right;\">\n",
       "      <th></th>\n",
       "      <th>Company Name</th>\n",
       "      <th>1Q21</th>\n",
       "      <th>2Q21</th>\n",
       "      <th>3Q21</th>\n",
       "      <th>4Q21</th>\n",
       "      <th>1Q22</th>\n",
       "      <th>2Q22</th>\n",
       "      <th>3Q22</th>\n",
       "      <th>4Q22</th>\n",
       "      <th>1Q23</th>\n",
       "      <th>...</th>\n",
       "      <th>3Q23</th>\n",
       "      <th>4Q23</th>\n",
       "      <th>1Q24</th>\n",
       "      <th>2Q24</th>\n",
       "      <th>3Q24</th>\n",
       "      <th>4Q24</th>\n",
       "      <th>1Q25</th>\n",
       "      <th>2Q25</th>\n",
       "      <th>3Q25</th>\n",
       "      <th>4Q25</th>\n",
       "    </tr>\n",
       "  </thead>\n",
       "  <tbody>\n",
       "  </tbody>\n",
       "</table>\n",
       "<p>0 rows × 21 columns</p>\n",
       "</div>"
      ],
      "text/plain": [
       "Empty DataFrame\n",
       "Columns: [Company Name, 1Q21, 2Q21, 3Q21, 4Q21, 1Q22, 2Q22, 3Q22, 4Q22, 1Q23, 2Q23, 3Q23, 4Q23, 1Q24, 2Q24, 3Q24, 4Q24, 1Q25, 2Q25, 3Q25, 4Q25]\n",
       "Index: []\n",
       "\n",
       "[0 rows x 21 columns]"
      ]
     },
     "execution_count": 8,
     "metadata": {},
     "output_type": "execute_result"
    }
   ],
   "source": [
    "dfOutput"
   ]
  },
  {
   "cell_type": "code",
   "execution_count": 9,
   "metadata": {},
   "outputs": [
    {
     "data": {
      "text/html": [
       "<div>\n",
       "<style scoped>\n",
       "    .dataframe tbody tr th:only-of-type {\n",
       "        vertical-align: middle;\n",
       "    }\n",
       "\n",
       "    .dataframe tbody tr th {\n",
       "        vertical-align: top;\n",
       "    }\n",
       "\n",
       "    .dataframe thead th {\n",
       "        text-align: right;\n",
       "    }\n",
       "</style>\n",
       "<table border=\"1\" class=\"dataframe\">\n",
       "  <thead>\n",
       "    <tr style=\"text-align: right;\">\n",
       "      <th></th>\n",
       "      <th>Company Name</th>\n",
       "      <th>1Q21</th>\n",
       "      <th>2Q21</th>\n",
       "      <th>3Q21</th>\n",
       "      <th>4Q21</th>\n",
       "      <th>1Q22</th>\n",
       "      <th>2Q22</th>\n",
       "      <th>3Q22</th>\n",
       "      <th>4Q22</th>\n",
       "      <th>1Q23</th>\n",
       "      <th>...</th>\n",
       "      <th>3Q23</th>\n",
       "      <th>4Q23</th>\n",
       "      <th>1Q24</th>\n",
       "      <th>2Q24</th>\n",
       "      <th>3Q24</th>\n",
       "      <th>4Q24</th>\n",
       "      <th>1Q25</th>\n",
       "      <th>2Q25</th>\n",
       "      <th>3Q25</th>\n",
       "      <th>4Q25</th>\n",
       "    </tr>\n",
       "  </thead>\n",
       "  <tbody>\n",
       "    <tr>\n",
       "      <th>0</th>\n",
       "      <td>ADG Acquisition, LLC</td>\n",
       "      <td>Yes</td>\n",
       "      <td>Yes</td>\n",
       "      <td>Yes</td>\n",
       "      <td>Yes</td>\n",
       "      <td>Yes</td>\n",
       "      <td>Yes</td>\n",
       "      <td>Yes</td>\n",
       "      <td>Yes</td>\n",
       "      <td>Yes</td>\n",
       "      <td>...</td>\n",
       "      <td>Yes</td>\n",
       "      <td>Yes</td>\n",
       "      <td>Yes</td>\n",
       "      <td>No</td>\n",
       "      <td>No</td>\n",
       "      <td>No</td>\n",
       "      <td>No</td>\n",
       "      <td>No</td>\n",
       "      <td>No</td>\n",
       "      <td>No</td>\n",
       "    </tr>\n",
       "  </tbody>\n",
       "</table>\n",
       "<p>1 rows × 21 columns</p>\n",
       "</div>"
      ],
      "text/plain": [
       "           Company Name 1Q21 2Q21 3Q21 4Q21 1Q22 2Q22 3Q22 4Q22 1Q23  ...  \\\n",
       "0  ADG Acquisition, LLC  Yes  Yes  Yes  Yes  Yes  Yes  Yes  Yes  Yes  ...   \n",
       "\n",
       "  3Q23 4Q23 1Q24 2Q24 3Q24 4Q24 1Q25 2Q25 3Q25 4Q25  \n",
       "0  Yes  Yes  Yes   No   No   No   No   No   No   No  \n",
       "\n",
       "[1 rows x 21 columns]"
      ]
     },
     "execution_count": 9,
     "metadata": {},
     "output_type": "execute_result"
    }
   ],
   "source": [
    "dfOutput = pd.concat([dfOutput,df])\n",
    "dfOutput"
   ]
  },
  {
   "cell_type": "code",
   "execution_count": 10,
   "metadata": {},
   "outputs": [],
   "source": [
    "dfOutput.to_excel('newFile.xlsx', index=False, engine='openpyxl')"
   ]
  }
 ],
 "metadata": {
  "kernelspec": {
   "display_name": "Python 3",
   "language": "python",
   "name": "python3"
  },
  "language_info": {
   "codemirror_mode": {
    "name": "ipython",
    "version": 3
   },
   "file_extension": ".py",
   "mimetype": "text/x-python",
   "name": "python",
   "nbconvert_exporter": "python",
   "pygments_lexer": "ipython3",
   "version": "3.12.4"
  }
 },
 "nbformat": 4,
 "nbformat_minor": 2
}
